{
  "metadata": {
    "kernelspec": {
      "language": "python",
      "display_name": "Python 3",
      "name": "python3"
    },
    "language_info": {
      "pygments_lexer": "ipython3",
      "nbconvert_exporter": "python",
      "version": "3.6.4",
      "file_extension": ".py",
      "codemirror_mode": {
        "name": "ipython",
        "version": 3
      },
      "name": "python",
      "mimetype": "text/x-python"
    },
    "kaggle": {
      "accelerator": "none",
      "dataSources": [
        {
          "sourceId": 5969573,
          "sourceType": "datasetVersion",
          "datasetId": 3417941
        }
      ],
      "dockerImageVersionId": 30513,
      "isInternetEnabled": false,
      "language": "python",
      "sourceType": "notebook",
      "isGpuEnabled": false
    },
    "colab": {
      "name": "Disease, Speciality Recommedation",
      "provenance": [],
      "include_colab_link": true
    }
  },
  "nbformat_minor": 0,
  "nbformat": 4,
  "cells": [
    {
      "cell_type": "markdown",
      "metadata": {
        "id": "view-in-github",
        "colab_type": "text"
      },
      "source": [
        "<a href=\"https://colab.research.google.com/github/wael-slimi/Speciality_Recommedation/blob/main/Disease%2C_Speciality_Recommedation.ipynb\" target=\"_parent\"><img src=\"https://colab.research.google.com/assets/colab-badge.svg\" alt=\"Open In Colab\"/></a>"
      ]
    },
    {
      "cell_type": "markdown",
      "source": [],
      "metadata": {
        "id": "Z-ublIwRGYDr"
      }
    },
    {
      "source": [
        "\n",
        "\n",
        "\n",
        "import os\n",
        "import sys\n",
        "from tempfile import NamedTemporaryFile\n",
        "from urllib.request import urlopen\n",
        "from urllib.parse import unquote, urlparse\n",
        "from urllib.error import HTTPError\n",
        "from zipfile import ZipFile\n",
        "import tarfile\n",
        "import shutil\n",
        "\n",
        "CHUNK_SIZE = 40960\n",
        "DATA_SOURCE_MAPPING = 'doctor-specialist-recommendation-system:https%3A%2F%2Fstorage.googleapis.com%2Fkaggle-data-sets%2F3417941%2F5969573%2Fbundle%2Farchive.zip%3FX-Goog-Algorithm%3DGOOG4-RSA-SHA256%26X-Goog-Credential%3Dgcp-kaggle-com%2540kaggle-161607.iam.gserviceaccount.com%252F20240425%252Fauto%252Fstorage%252Fgoog4_request%26X-Goog-Date%3D20240425T020157Z%26X-Goog-Expires%3D259200%26X-Goog-SignedHeaders%3Dhost%26X-Goog-Signature%3D10edc02ee98f39bb687a0e1c762b67d5ebd87ce4f6bf704f1d33de5ecfc7690e6924588b881146388e164fce78529ea2a769f61da3f56cc2fca13be64e609618065f48bec268eab39cf67149ca7c4df4da0e4167b5ffdf30fb4d0a6a4184425ebaa1ae0dfca892445cf7ddc76df4a88fea34fb6a212fff9cab643dacf9ca25ffe276a5d54d4bcd88ed3e7ce7a6edf7b595a9b436a918c7ddb5a98c8ce904e203f5e111aebdfcacea61f0185a55b76224706719ab84b04ab2fbfb8ffea4aa1d17fa5612740ca811c1aecfad98e5194bc987759798b72ed00378f1f1b544fd49396633a496043573bac6a1d135fa2931bd680cf8895ea801fe5c1a472807fde133'\n",
        "\n",
        "KAGGLE_INPUT_PATH='/kaggle/input'\n",
        "KAGGLE_WORKING_PATH='/kaggle/working'\n",
        "KAGGLE_SYMLINK='kaggle'\n",
        "\n",
        "!umount /kaggle/input/ 2> /dev/null\n",
        "shutil.rmtree('/kaggle/input', ignore_errors=True)\n",
        "os.makedirs(KAGGLE_INPUT_PATH, 0o777, exist_ok=True)\n",
        "os.makedirs(KAGGLE_WORKING_PATH, 0o777, exist_ok=True)\n",
        "\n",
        "try:\n",
        "  os.symlink(KAGGLE_INPUT_PATH, os.path.join(\"..\", 'input'), target_is_directory=True)\n",
        "except FileExistsError:\n",
        "  pass\n",
        "try:\n",
        "  os.symlink(KAGGLE_WORKING_PATH, os.path.join(\"..\", 'working'), target_is_directory=True)\n",
        "except FileExistsError:\n",
        "  pass\n",
        "\n",
        "for data_source_mapping in DATA_SOURCE_MAPPING.split(','):\n",
        "    directory, download_url_encoded = data_source_mapping.split(':')\n",
        "    download_url = unquote(download_url_encoded)\n",
        "    filename = urlparse(download_url).path\n",
        "    destination_path = os.path.join(KAGGLE_INPUT_PATH, directory)\n",
        "    try:\n",
        "        with urlopen(download_url) as fileres, NamedTemporaryFile() as tfile:\n",
        "            total_length = fileres.headers['content-length']\n",
        "            print(f'Downloading {directory}, {total_length} bytes compressed')\n",
        "            dl = 0\n",
        "            data = fileres.read(CHUNK_SIZE)\n",
        "            while len(data) > 0:\n",
        "                dl += len(data)\n",
        "                tfile.write(data)\n",
        "                done = int(50 * dl / int(total_length))\n",
        "                sys.stdout.write(f\"\\r[{'=' * done}{' ' * (50-done)}] {dl} bytes downloaded\")\n",
        "                sys.stdout.flush()\n",
        "                data = fileres.read(CHUNK_SIZE)\n",
        "            if filename.endswith('.zip'):\n",
        "              with ZipFile(tfile) as zfile:\n",
        "                zfile.extractall(destination_path)\n",
        "            else:\n",
        "              with tarfile.open(tfile.name) as tarfile:\n",
        "                tarfile.extractall(destination_path)\n",
        "            print(f'\\nDownloaded and uncompressed: {directory}')\n",
        "    except HTTPError as e:\n",
        "        print(f'Failed to load (likely expired) {download_url} to path {destination_path}')\n",
        "        continue\n",
        "    except OSError as e:\n",
        "        print(f'Failed to load {download_url} to path {destination_path}')\n",
        "        continue\n",
        "\n",
        "print('Data source import complete.')\n"
      ],
      "metadata": {
        "colab": {
          "base_uri": "https://localhost:8080/"
        },
        "id": "h8F4Xt4QMETp",
        "outputId": "a62862e3-0f80-4198-e333-396ecb052bd6"
      },
      "cell_type": "code",
      "outputs": [
        {
          "output_type": "stream",
          "name": "stdout",
          "text": [
            "Downloading doctor-specialist-recommendation-system, 942184 bytes compressed\n",
            "[==================================================] 942184 bytes downloaded\n",
            "Downloaded and uncompressed: doctor-specialist-recommendation-system\n",
            "Data source import complete.\n"
          ]
        }
      ],
      "execution_count": null
    },
    {
      "cell_type": "markdown",
      "source": [
        "### Predicting Disease based on the Symptoms and identifying specialist based on predicted disease"
      ],
      "metadata": {
        "id": "mjyZVhoEMETs"
      }
    },
    {
      "cell_type": "code",
      "source": [],
      "metadata": {
        "id": "Dd_-P-HxMETt"
      },
      "execution_count": null,
      "outputs": []
    },
    {
      "cell_type": "code",
      "source": [
        "! cd"
      ],
      "metadata": {
        "id": "7nef4_WeFKFQ"
      },
      "execution_count": null,
      "outputs": []
    },
    {
      "cell_type": "markdown",
      "source": [
        "**The dataset contains information about symptoms, diseases, recommended doctors for each disease, and descriptions of the diseases. Using a classification model, diseases have been predicted based on the given symptoms. The predictions provide insights into the predicted disease, the likelihood or chance of that disease based on the classification model, the recommended doctor to visit for that disease, and a description of the predicted disease.**\n",
        "\n",
        "**The summary output includes:**\n",
        "\n",
        "**Predicted Disease:** *-The disease that has been predicted based on the symptoms provided.-*\n",
        "\n",
        "**Chance of the Disease:** *-The likelihood or probability of having that disease, as determined by the classification model.-*\n",
        "\n",
        "**Recommended Doctor:** *-The doctor or specialist recommended to visit for further evaluation or treatment of the predicted disease.-*\n",
        "\n",
        "**Description of the Disease:** *-A brief overview or description of the predicted disease, providing additional information about its symptoms, causes, and potential treatments.-*\n",
        "\n",
        "**This summary aims to provide a concise and informative overview of the predicted disease, its associated likelihood, the recommended doctor, and a brief description to aid in understanding and decision-making regarding the predicted disease.**"
      ],
      "metadata": {
        "id": "J2jwd2dgMETu"
      }
    },
    {
      "cell_type": "code",
      "source": [
        "import pandas as pd\n",
        "import numpy as np\n",
        "import matplotlib.pyplot as plt\n",
        "import seaborn as sns\n",
        "import warnings\n",
        "warnings.filterwarnings(\"ignore\")\n",
        "from sklearn.model_selection import train_test_split\n",
        "from sklearn.linear_model import LogisticRegression\n",
        "from sklearn.neighbors import KNeighborsClassifier\n",
        "from sklearn.naive_bayes import GaussianNB\n",
        "from sklearn import svm\n",
        "from sklearn import tree\n",
        "from sklearn.ensemble import RandomForestClassifier\n",
        "from sklearn.ensemble import GradientBoostingClassifier\n",
        "from sklearn.preprocessing import LabelEncoder\n",
        "from sklearn import metrics\n",
        "from sklearn.metrics import confusion_matrix\n",
        "from sklearn.model_selection import RandomizedSearchCV\n",
        "from collections import Counter"
      ],
      "metadata": {
        "id": "LBJS3BVUMETu"
      },
      "execution_count": null,
      "outputs": []
    },
    {
      "cell_type": "code",
      "source": [
        "pd.set_option('display.max_colwidth', 50)"
      ],
      "metadata": {
        "id": "FB6Iy-NwMETu"
      },
      "execution_count": null,
      "outputs": []
    },
    {
      "cell_type": "code",
      "source": [
        "dis_sym_data = pd.read_csv(\"/kaggle/input/doctor-specialist-recommendation-system/Original_Dataset.csv\")"
      ],
      "metadata": {
        "id": "TL4PNNtpMETu"
      },
      "execution_count": null,
      "outputs": []
    },
    {
      "cell_type": "code",
      "source": [
        "dis_sym_data.head()"
      ],
      "metadata": {
        "scrolled": true,
        "id": "dbS29Mr2METv"
      },
      "execution_count": null,
      "outputs": []
    },
    {
      "cell_type": "code",
      "source": [
        "dis_sym_data.shape"
      ],
      "metadata": {
        "colab": {
          "base_uri": "https://localhost:8080/"
        },
        "id": "6pdg8BCSMETv",
        "outputId": "df55dc27-7470-40e1-a7d2-162090a9575d"
      },
      "execution_count": null,
      "outputs": [
        {
          "output_type": "execute_result",
          "data": {
            "text/plain": [
              "(4920, 18)"
            ]
          },
          "metadata": {},
          "execution_count": 8
        }
      ]
    },
    {
      "cell_type": "markdown",
      "source": [
        "**Finding unique values across all the symptoms column**"
      ],
      "metadata": {
        "id": "ybYxJra_METv"
      }
    },
    {
      "cell_type": "code",
      "source": [
        "columns_to_check = []\n",
        "for col in dis_sym_data.columns:\n",
        "    if col != 'Disease':\n",
        "        columns_to_check.append(col)"
      ],
      "metadata": {
        "id": "IHpkMLrbMETw"
      },
      "execution_count": null,
      "outputs": []
    },
    {
      "cell_type": "code",
      "source": [
        "symptoms = dis_sym_data.iloc[:, 1:].values.flatten()\n",
        "symptoms = list(set(symptoms))"
      ],
      "metadata": {
        "id": "APh9W75CMETw"
      },
      "execution_count": null,
      "outputs": []
    },
    {
      "cell_type": "markdown",
      "source": [
        "**Convert Symptoms to Binary Columns**"
      ],
      "metadata": {
        "id": "BrQuTYgAMETx"
      }
    },
    {
      "cell_type": "code",
      "source": [
        "for symptom in symptoms:\n",
        "    dis_sym_data[symptom] = dis_sym_data.iloc[:, 1:].apply(lambda row: int(symptom in row.values), axis=1)\n",
        "\n",
        "dis_sym_data_v1 = dis_sym_data.drop(columns=columns_to_check)"
      ],
      "metadata": {
        "id": "A_SpBL4JMETx"
      },
      "execution_count": null,
      "outputs": []
    },
    {
      "cell_type": "code",
      "source": [
        "dis_sym_data_v1 = dis_sym_data_v1.loc[:, dis_sym_data_v1.columns.notna()]"
      ],
      "metadata": {
        "id": "38AnvRraMETx"
      },
      "execution_count": null,
      "outputs": []
    },
    {
      "cell_type": "code",
      "source": [
        "dis_sym_data_v1.shape"
      ],
      "metadata": {
        "colab": {
          "base_uri": "https://localhost:8080/"
        },
        "id": "9PRzvMBpMETx",
        "outputId": "e968be2c-6934-4ccf-d0ff-38eadf823721"
      },
      "execution_count": null,
      "outputs": [
        {
          "output_type": "execute_result",
          "data": {
            "text/plain": [
              "(4920, 132)"
            ]
          },
          "metadata": {},
          "execution_count": 13
        }
      ]
    },
    {
      "cell_type": "code",
      "source": [
        "dis_sym_data_v1.columns = dis_sym_data_v1.columns.str.strip()"
      ],
      "metadata": {
        "id": "QRvq4h_pMETx"
      },
      "execution_count": null,
      "outputs": []
    },
    {
      "cell_type": "code",
      "source": [
        "dis_sym_data_v1.columns"
      ],
      "metadata": {
        "id": "BVUtE3baMETx"
      },
      "execution_count": null,
      "outputs": []
    },
    {
      "cell_type": "markdown",
      "source": [
        "**Encoding Disease**"
      ],
      "metadata": {
        "id": "qCJdidH_METx"
      }
    },
    {
      "cell_type": "code",
      "source": [
        "var_mod = ['Disease']\n",
        "le = LabelEncoder()\n",
        "for i in var_mod:\n",
        "    dis_sym_data_v1[i] = le.fit_transform(dis_sym_data_v1[i])"
      ],
      "metadata": {
        "id": "JiZcDGZsMETx"
      },
      "execution_count": null,
      "outputs": []
    },
    {
      "cell_type": "code",
      "source": [
        "X = dis_sym_data_v1.drop(columns=\"Disease\")\n",
        "y = dis_sym_data_v1['Disease']"
      ],
      "metadata": {
        "id": "k5KUtvvOMETx"
      },
      "execution_count": null,
      "outputs": []
    },
    {
      "cell_type": "markdown",
      "source": [
        "**Model Generation**"
      ],
      "metadata": {
        "id": "OhOtLoU0METx"
      }
    },
    {
      "cell_type": "code",
      "source": [
        "def class_algo(model,independent,dependent):\n",
        "    model.fit(independent,dependent)\n",
        "    pred = model.predict(independent)\n",
        "    accuracy = metrics.accuracy_score(pred,dependent)\n",
        "    print(model_name,'Accuracy : %s' % '{0:.3%}'.format(accuracy))"
      ],
      "metadata": {
        "id": "j2_XQOzsMETx"
      },
      "execution_count": null,
      "outputs": []
    },
    {
      "cell_type": "code",
      "source": [
        "algorithms = {'Logistic Regression':\n",
        "              {\"model\": LogisticRegression()},\n",
        "\n",
        "              'Decision Tree':\n",
        "              {\"model\": tree.DecisionTreeClassifier()},\n",
        "\n",
        "              'Random Forest':\n",
        "              {\"model\": RandomForestClassifier()},\n",
        "\n",
        "              'SVM':\n",
        "              {\"model\": svm.SVC(probability=True)},\n",
        "\n",
        "              'NaiveBayes' :\n",
        "              {\"model\": GaussianNB()},\n",
        "\n",
        "              'K-Nearest Neighbors' :\n",
        "              {\"model\": KNeighborsClassifier()},\n",
        "             }"
      ],
      "metadata": {
        "id": "z5YmBLDsMETx"
      },
      "execution_count": null,
      "outputs": []
    },
    {
      "cell_type": "code",
      "source": [
        "for model_name, values in algorithms.items():\n",
        "    class_algo(values[\"model\"],X,y)"
      ],
      "metadata": {
        "colab": {
          "base_uri": "https://localhost:8080/"
        },
        "id": "lQfugPFmMETy",
        "outputId": "f88565cc-733f-4556-b5ba-6648978c739c"
      },
      "execution_count": null,
      "outputs": [
        {
          "output_type": "stream",
          "name": "stdout",
          "text": [
            "Logistic Regression Accuracy : 100.000%\n",
            "Decision Tree Accuracy : 100.000%\n",
            "Random Forest Accuracy : 100.000%\n",
            "SVM Accuracy : 100.000%\n",
            "NaiveBayes Accuracy : 100.000%\n",
            "K-Nearest Neighbors Accuracy : 100.000%\n"
          ]
        }
      ]
    },
    {
      "cell_type": "markdown",
      "source": [
        "**Map Description and Specialist for the Disease Predicted**"
      ],
      "metadata": {
        "id": "KLbNzvRMMETy"
      }
    },
    {
      "cell_type": "code",
      "source": [
        "doc_data = pd.read_csv(\"/kaggle/input/doctor-specialist-recommendation-system/Doctor_Versus_Disease.csv\",encoding='latin1', names=['Disease','Specialist'])"
      ],
      "metadata": {
        "id": "DbEVzQdCMETy"
      },
      "execution_count": null,
      "outputs": []
    },
    {
      "cell_type": "code",
      "source": [
        "doc_data.tail(5)"
      ],
      "metadata": {
        "id": "FrEGqFZQMETy"
      },
      "execution_count": null,
      "outputs": []
    },
    {
      "cell_type": "markdown",
      "source": [
        " -*Doctor name is wrong for Disease - Tuberculosis. Replace to Pulmonologist*-"
      ],
      "metadata": {
        "id": "5RJ4JnS1METy"
      }
    },
    {
      "cell_type": "code",
      "source": [
        "doc_data['Specialist'] = np.where((doc_data['Disease'] == 'Tuberculosis'),'Pulmonologist', doc_data['Specialist'])"
      ],
      "metadata": {
        "id": "Y6UUYsXMMETy"
      },
      "execution_count": null,
      "outputs": []
    },
    {
      "cell_type": "code",
      "source": [
        "doc_data.tail(5)"
      ],
      "metadata": {
        "id": "m09rX9LYMETy"
      },
      "execution_count": null,
      "outputs": []
    },
    {
      "cell_type": "code",
      "source": [
        "des_data = pd.read_csv(\"/kaggle/input/doctor-specialist-recommendation-system/Disease_Description.csv\")"
      ],
      "metadata": {
        "id": "OVZ4cpG-METy"
      },
      "execution_count": null,
      "outputs": []
    },
    {
      "cell_type": "code",
      "source": [
        "des_data.head()"
      ],
      "metadata": {
        "colab": {
          "base_uri": "https://localhost:8080/",
          "height": 206
        },
        "id": "jzDkg68TMETy",
        "outputId": "e4272ace-3ca4-4367-fb3d-bf98692bb6dd"
      },
      "execution_count": null,
      "outputs": [
        {
          "output_type": "execute_result",
          "data": {
            "text/plain": [
              "          Disease                                        Description\n",
              "0   Drug Reaction  An adverse drug reaction (ADR) is an injury ca...\n",
              "1         Malaria  An infectious disease caused by protozoan para...\n",
              "2         Allergy  An allergy is an immune system response to a f...\n",
              "3  Hypothyroidism  Hypothyroidism, also called underactive thyroi...\n",
              "4       Psoriasis  Psoriasis is a common skin disorder that forms..."
            ],
            "text/html": [
              "\n",
              "  <div id=\"df-78a3ffd6-543f-4d25-9623-837c2528f257\" class=\"colab-df-container\">\n",
              "    <div>\n",
              "<style scoped>\n",
              "    .dataframe tbody tr th:only-of-type {\n",
              "        vertical-align: middle;\n",
              "    }\n",
              "\n",
              "    .dataframe tbody tr th {\n",
              "        vertical-align: top;\n",
              "    }\n",
              "\n",
              "    .dataframe thead th {\n",
              "        text-align: right;\n",
              "    }\n",
              "</style>\n",
              "<table border=\"1\" class=\"dataframe\">\n",
              "  <thead>\n",
              "    <tr style=\"text-align: right;\">\n",
              "      <th></th>\n",
              "      <th>Disease</th>\n",
              "      <th>Description</th>\n",
              "    </tr>\n",
              "  </thead>\n",
              "  <tbody>\n",
              "    <tr>\n",
              "      <th>0</th>\n",
              "      <td>Drug Reaction</td>\n",
              "      <td>An adverse drug reaction (ADR) is an injury ca...</td>\n",
              "    </tr>\n",
              "    <tr>\n",
              "      <th>1</th>\n",
              "      <td>Malaria</td>\n",
              "      <td>An infectious disease caused by protozoan para...</td>\n",
              "    </tr>\n",
              "    <tr>\n",
              "      <th>2</th>\n",
              "      <td>Allergy</td>\n",
              "      <td>An allergy is an immune system response to a f...</td>\n",
              "    </tr>\n",
              "    <tr>\n",
              "      <th>3</th>\n",
              "      <td>Hypothyroidism</td>\n",
              "      <td>Hypothyroidism, also called underactive thyroi...</td>\n",
              "    </tr>\n",
              "    <tr>\n",
              "      <th>4</th>\n",
              "      <td>Psoriasis</td>\n",
              "      <td>Psoriasis is a common skin disorder that forms...</td>\n",
              "    </tr>\n",
              "  </tbody>\n",
              "</table>\n",
              "</div>\n",
              "    <div class=\"colab-df-buttons\">\n",
              "\n",
              "  <div class=\"colab-df-container\">\n",
              "    <button class=\"colab-df-convert\" onclick=\"convertToInteractive('df-78a3ffd6-543f-4d25-9623-837c2528f257')\"\n",
              "            title=\"Convert this dataframe to an interactive table.\"\n",
              "            style=\"display:none;\">\n",
              "\n",
              "  <svg xmlns=\"http://www.w3.org/2000/svg\" height=\"24px\" viewBox=\"0 -960 960 960\">\n",
              "    <path d=\"M120-120v-720h720v720H120Zm60-500h600v-160H180v160Zm220 220h160v-160H400v160Zm0 220h160v-160H400v160ZM180-400h160v-160H180v160Zm440 0h160v-160H620v160ZM180-180h160v-160H180v160Zm440 0h160v-160H620v160Z\"/>\n",
              "  </svg>\n",
              "    </button>\n",
              "\n",
              "  <style>\n",
              "    .colab-df-container {\n",
              "      display:flex;\n",
              "      gap: 12px;\n",
              "    }\n",
              "\n",
              "    .colab-df-convert {\n",
              "      background-color: #E8F0FE;\n",
              "      border: none;\n",
              "      border-radius: 50%;\n",
              "      cursor: pointer;\n",
              "      display: none;\n",
              "      fill: #1967D2;\n",
              "      height: 32px;\n",
              "      padding: 0 0 0 0;\n",
              "      width: 32px;\n",
              "    }\n",
              "\n",
              "    .colab-df-convert:hover {\n",
              "      background-color: #E2EBFA;\n",
              "      box-shadow: 0px 1px 2px rgba(60, 64, 67, 0.3), 0px 1px 3px 1px rgba(60, 64, 67, 0.15);\n",
              "      fill: #174EA6;\n",
              "    }\n",
              "\n",
              "    .colab-df-buttons div {\n",
              "      margin-bottom: 4px;\n",
              "    }\n",
              "\n",
              "    [theme=dark] .colab-df-convert {\n",
              "      background-color: #3B4455;\n",
              "      fill: #D2E3FC;\n",
              "    }\n",
              "\n",
              "    [theme=dark] .colab-df-convert:hover {\n",
              "      background-color: #434B5C;\n",
              "      box-shadow: 0px 1px 3px 1px rgba(0, 0, 0, 0.15);\n",
              "      filter: drop-shadow(0px 1px 2px rgba(0, 0, 0, 0.3));\n",
              "      fill: #FFFFFF;\n",
              "    }\n",
              "  </style>\n",
              "\n",
              "    <script>\n",
              "      const buttonEl =\n",
              "        document.querySelector('#df-78a3ffd6-543f-4d25-9623-837c2528f257 button.colab-df-convert');\n",
              "      buttonEl.style.display =\n",
              "        google.colab.kernel.accessAllowed ? 'block' : 'none';\n",
              "\n",
              "      async function convertToInteractive(key) {\n",
              "        const element = document.querySelector('#df-78a3ffd6-543f-4d25-9623-837c2528f257');\n",
              "        const dataTable =\n",
              "          await google.colab.kernel.invokeFunction('convertToInteractive',\n",
              "                                                    [key], {});\n",
              "        if (!dataTable) return;\n",
              "\n",
              "        const docLinkHtml = 'Like what you see? Visit the ' +\n",
              "          '<a target=\"_blank\" href=https://colab.research.google.com/notebooks/data_table.ipynb>data table notebook</a>'\n",
              "          + ' to learn more about interactive tables.';\n",
              "        element.innerHTML = '';\n",
              "        dataTable['output_type'] = 'display_data';\n",
              "        await google.colab.output.renderOutput(dataTable, element);\n",
              "        const docLink = document.createElement('div');\n",
              "        docLink.innerHTML = docLinkHtml;\n",
              "        element.appendChild(docLink);\n",
              "      }\n",
              "    </script>\n",
              "  </div>\n",
              "\n",
              "\n",
              "<div id=\"df-671dca73-7b4e-4e95-9a1a-49581c19aefd\">\n",
              "  <button class=\"colab-df-quickchart\" onclick=\"quickchart('df-671dca73-7b4e-4e95-9a1a-49581c19aefd')\"\n",
              "            title=\"Suggest charts\"\n",
              "            style=\"display:none;\">\n",
              "\n",
              "<svg xmlns=\"http://www.w3.org/2000/svg\" height=\"24px\"viewBox=\"0 0 24 24\"\n",
              "     width=\"24px\">\n",
              "    <g>\n",
              "        <path d=\"M19 3H5c-1.1 0-2 .9-2 2v14c0 1.1.9 2 2 2h14c1.1 0 2-.9 2-2V5c0-1.1-.9-2-2-2zM9 17H7v-7h2v7zm4 0h-2V7h2v10zm4 0h-2v-4h2v4z\"/>\n",
              "    </g>\n",
              "</svg>\n",
              "  </button>\n",
              "\n",
              "<style>\n",
              "  .colab-df-quickchart {\n",
              "      --bg-color: #E8F0FE;\n",
              "      --fill-color: #1967D2;\n",
              "      --hover-bg-color: #E2EBFA;\n",
              "      --hover-fill-color: #174EA6;\n",
              "      --disabled-fill-color: #AAA;\n",
              "      --disabled-bg-color: #DDD;\n",
              "  }\n",
              "\n",
              "  [theme=dark] .colab-df-quickchart {\n",
              "      --bg-color: #3B4455;\n",
              "      --fill-color: #D2E3FC;\n",
              "      --hover-bg-color: #434B5C;\n",
              "      --hover-fill-color: #FFFFFF;\n",
              "      --disabled-bg-color: #3B4455;\n",
              "      --disabled-fill-color: #666;\n",
              "  }\n",
              "\n",
              "  .colab-df-quickchart {\n",
              "    background-color: var(--bg-color);\n",
              "    border: none;\n",
              "    border-radius: 50%;\n",
              "    cursor: pointer;\n",
              "    display: none;\n",
              "    fill: var(--fill-color);\n",
              "    height: 32px;\n",
              "    padding: 0;\n",
              "    width: 32px;\n",
              "  }\n",
              "\n",
              "  .colab-df-quickchart:hover {\n",
              "    background-color: var(--hover-bg-color);\n",
              "    box-shadow: 0 1px 2px rgba(60, 64, 67, 0.3), 0 1px 3px 1px rgba(60, 64, 67, 0.15);\n",
              "    fill: var(--button-hover-fill-color);\n",
              "  }\n",
              "\n",
              "  .colab-df-quickchart-complete:disabled,\n",
              "  .colab-df-quickchart-complete:disabled:hover {\n",
              "    background-color: var(--disabled-bg-color);\n",
              "    fill: var(--disabled-fill-color);\n",
              "    box-shadow: none;\n",
              "  }\n",
              "\n",
              "  .colab-df-spinner {\n",
              "    border: 2px solid var(--fill-color);\n",
              "    border-color: transparent;\n",
              "    border-bottom-color: var(--fill-color);\n",
              "    animation:\n",
              "      spin 1s steps(1) infinite;\n",
              "  }\n",
              "\n",
              "  @keyframes spin {\n",
              "    0% {\n",
              "      border-color: transparent;\n",
              "      border-bottom-color: var(--fill-color);\n",
              "      border-left-color: var(--fill-color);\n",
              "    }\n",
              "    20% {\n",
              "      border-color: transparent;\n",
              "      border-left-color: var(--fill-color);\n",
              "      border-top-color: var(--fill-color);\n",
              "    }\n",
              "    30% {\n",
              "      border-color: transparent;\n",
              "      border-left-color: var(--fill-color);\n",
              "      border-top-color: var(--fill-color);\n",
              "      border-right-color: var(--fill-color);\n",
              "    }\n",
              "    40% {\n",
              "      border-color: transparent;\n",
              "      border-right-color: var(--fill-color);\n",
              "      border-top-color: var(--fill-color);\n",
              "    }\n",
              "    60% {\n",
              "      border-color: transparent;\n",
              "      border-right-color: var(--fill-color);\n",
              "    }\n",
              "    80% {\n",
              "      border-color: transparent;\n",
              "      border-right-color: var(--fill-color);\n",
              "      border-bottom-color: var(--fill-color);\n",
              "    }\n",
              "    90% {\n",
              "      border-color: transparent;\n",
              "      border-bottom-color: var(--fill-color);\n",
              "    }\n",
              "  }\n",
              "</style>\n",
              "\n",
              "  <script>\n",
              "    async function quickchart(key) {\n",
              "      const quickchartButtonEl =\n",
              "        document.querySelector('#' + key + ' button');\n",
              "      quickchartButtonEl.disabled = true;  // To prevent multiple clicks.\n",
              "      quickchartButtonEl.classList.add('colab-df-spinner');\n",
              "      try {\n",
              "        const charts = await google.colab.kernel.invokeFunction(\n",
              "            'suggestCharts', [key], {});\n",
              "      } catch (error) {\n",
              "        console.error('Error during call to suggestCharts:', error);\n",
              "      }\n",
              "      quickchartButtonEl.classList.remove('colab-df-spinner');\n",
              "      quickchartButtonEl.classList.add('colab-df-quickchart-complete');\n",
              "    }\n",
              "    (() => {\n",
              "      let quickchartButtonEl =\n",
              "        document.querySelector('#df-671dca73-7b4e-4e95-9a1a-49581c19aefd button');\n",
              "      quickchartButtonEl.style.display =\n",
              "        google.colab.kernel.accessAllowed ? 'block' : 'none';\n",
              "    })();\n",
              "  </script>\n",
              "</div>\n",
              "\n",
              "    </div>\n",
              "  </div>\n"
            ],
            "application/vnd.google.colaboratory.intrinsic+json": {
              "type": "dataframe",
              "variable_name": "des_data",
              "summary": "{\n  \"name\": \"des_data\",\n  \"rows\": 41,\n  \"fields\": [\n    {\n      \"column\": \"Disease\",\n      \"properties\": {\n        \"dtype\": \"string\",\n        \"num_unique_values\": 41,\n        \"samples\": [\n          \"Paralysis (brain hemorrhage)\",\n          \"Impetigo\",\n          \"Osteoarthristis\"\n        ],\n        \"semantic_type\": \"\",\n        \"description\": \"\"\n      }\n    },\n    {\n      \"column\": \"Description\",\n      \"properties\": {\n        \"dtype\": \"string\",\n        \"num_unique_values\": 41,\n        \"samples\": [\n          \"Intracerebral hemorrhage (ICH) is when blood suddenly bursts into brain tissue, causing damage to your brain. Symptoms usually appear suddenly during ICH. They include headache, weakness, confusion, and paralysis, particularly on one side of your body.\",\n          \"Impetigo (im-puh-TIE-go) is a common and highly contagious skin infection that mainly affects infants and children. Impetigo usually appears as red sores on the face, especially around a child's nose and mouth, and on hands and feet. The sores burst and develop honey-colored crusts.\",\n          \"Osteoarthritis is the most common form of arthritis, affecting millions of people worldwide. It occurs when the protective cartilage that cushions the ends of your bones wears down over time.\"\n        ],\n        \"semantic_type\": \"\",\n        \"description\": \"\"\n      }\n    }\n  ]\n}"
            }
          },
          "metadata": {},
          "execution_count": 26
        }
      ]
    },
    {
      "cell_type": "markdown",
      "source": [
        "**Test with Unknown Data**"
      ],
      "metadata": {
        "id": "LZ1j9YniMETy"
      }
    },
    {
      "cell_type": "code",
      "source": [
        "test_col = []\n",
        "for col in dis_sym_data_v1.columns:\n",
        "    if col != 'Disease':\n",
        "        test_col.append(col)\n",
        "\n",
        "\n",
        "test_data = {}\n",
        "symptoms = []\n",
        "predicted = []\n",
        "def test_input():\n",
        "    symptoms.clear()\n",
        "    predicted.clear()\n",
        "    num_inputs = int(input(\"Enter the number of symptoms you have: \"))\n",
        "    for i in range(num_inputs):\n",
        "        user_input = input(\"Enter Symptoms #{}: \".format(i+1))\n",
        "        symptoms.append(user_input)\n",
        "    print(\"Symptoms you have:\", symptoms)\n",
        "    for column in test_col:\n",
        "        test_data[column] = 1 if column in symptoms else 0\n",
        "        test_df = pd.DataFrame(test_data, index=[0])\n",
        "    print(\"Predicting Disease based on 6 ML algorithms...\")\n",
        "    for model_name, values in algorithms.items():\n",
        "        predict_disease = values[\"model\"].predict(test_df)\n",
        "        predict_disease = le.inverse_transform(predict_disease)\n",
        "        predicted.extend(predict_disease)\n",
        "    disease_counts = Counter(predicted)\n",
        "    percentage_per_disease = {disease: (count / 6) * 100 for disease, count in disease_counts.items()}\n",
        "    result_df = pd.DataFrame({\"Disease\": list(percentage_per_disease.keys()),\n",
        "                               \"Chances\": list(percentage_per_disease.values())})\n",
        "    result_df = result_df.merge(doc_data, on='Disease', how='left')\n",
        "    result_df = result_df.merge(des_data, on='Disease', how='left')\n",
        "    return result_df"
      ],
      "metadata": {
        "id": "AF9PjLUBMETy"
      },
      "execution_count": null,
      "outputs": []
    },
    {
      "cell_type": "code",
      "source": [
        "# Looping through each column name in the DataFrame dis_sym_data_v1\n",
        "# Each column represents a symptom\n",
        "for sym in dis_sym_data_v1:\n",
        "    # Printing each column name (which represents a symptom)\n",
        "    print(sym)\n"
      ],
      "metadata": {
        "id": "CAUQ504ULGCX"
      },
      "execution_count": null,
      "outputs": []
    },
    {
      "cell_type": "code",
      "source": [
        "test_input()"
      ],
      "metadata": {
        "scrolled": true,
        "id": "49yTpMuiMETz"
      },
      "execution_count": null,
      "outputs": []
    },
    {
      "cell_type": "markdown",
      "source": [
        ".\n",
        "\n",
        "\n",
        "\n",
        "\n",
        "\n",
        "\n",
        "\n",
        "\n",
        "\n",
        "\n",
        "\n",
        "\n",
        "\n",
        "\n",
        "\n",
        "\n",
        "\n",
        "\n",
        "\n",
        "\n",
        "\n",
        "\n",
        "\n",
        "."
      ],
      "metadata": {
        "id": "fL_dvi4_-w8z"
      }
    },
    {
      "cell_type": "code",
      "source": [
        "import random\n",
        "\n",
        "# Generate random latitude and longitude within the range of [-90, 90] and [-180, 180] respectively\n",
        "user_latitude = random.uniform(-90, 90)\n",
        "user_longitude = random.uniform(-180, 180)\n",
        "\n",
        "print(f\"Random User Location - Latitude: {user_latitude}, Longitude: {user_longitude}\")\n"
      ],
      "metadata": {
        "id": "dWLYYFr1NFbD",
        "outputId": "a931267b-0091-4d36-ba41-f26fdfb3727d",
        "colab": {
          "base_uri": "https://localhost:8080/"
        }
      },
      "execution_count": null,
      "outputs": [
        {
          "output_type": "stream",
          "name": "stdout",
          "text": [
            "Random User Location - Latitude: 44.28190206834597, Longitude: 14.47378983434055\n"
          ]
        }
      ]
    },
    {
      "cell_type": "code",
      "source": [
        "from math import radians, sin, cos, sqrt, atan2\n",
        "\n",
        "def calculate_distance(lat1, lon1, lat2, lon2):\n",
        "    # Radius of the Earth in km\n",
        "    R = 6371.0\n",
        "\n",
        "    # Convert latitude and longitude from degrees to radians\n",
        "    lat1 = radians(lat1)\n",
        "    lon1 = radians(lon1)\n",
        "    lat2 = radians(lat2)\n",
        "    lon2 = radians(lon2)\n",
        "\n",
        "    # Compute the differences in coordinates\n",
        "    dlon = lon2 - lon1\n",
        "    dlat = lat2 - lat1\n",
        "\n",
        "    # Haversine formula to calculate the distance\n",
        "    a = sin(dlat / 2)**2 + cos(lat1) * cos(lat2) * sin(dlon / 2)**2\n",
        "    c = 2 * atan2(sqrt(a), sqrt(1 - a))\n",
        "    distance = R * c\n",
        "\n",
        "    return distance\n",
        "\n"
      ],
      "metadata": {
        "id": "wRKb_rnQPaLf"
      },
      "execution_count": null,
      "outputs": []
    },
    {
      "cell_type": "code",
      "source": [
        "import pandas as pd\n",
        "from sklearn.model_selection import train_test_split\n",
        "from sklearn.ensemble import RandomForestClassifier\n",
        "\n",
        "# Load the dataset\n",
        "data = pd.read_csv(\"/content/sample_data/doctor_data.csv\")\n",
        "\n",
        "# Assuming the dataset contains doctor locations (latitude and longitude)\n",
        "\n",
        "# User location input (latitude and longitude)\n",
        "user_latitude = float(input(\"Enter your latitude: \"))\n",
        "user_longitude = float(input(\"Enter your longitude: \"))\n",
        "\n",
        "# Calculate distances between user location and doctor locations\n",
        "data['Distance'] = data.apply(lambda row: calculate_distance(user_latitude, user_longitude, row['Doctor_Latitude'], row['Doctor_Longitude']), axis=1)\n",
        "\n",
        "# Sort doctors by distance\n",
        "data.sort_values(by='Distance', inplace=True)\n",
        "\n",
        "# Display recommended doctors with distances in kilometers\n",
        "recommended_doctors = data[['Doctor', 'Specialty', 'Distance']].head(5)\n",
        "recommended_doctors['Distance'] = recommended_doctors['Distance'].apply(lambda x: f\"{x:.2f} km\")\n",
        "print(\"Recommended Doctors:\")\n",
        "print(recommended_doctors)\n"
      ],
      "metadata": {
        "id": "asI7zoP7-yE9"
      },
      "execution_count": null,
      "outputs": []
    }
  ]
}