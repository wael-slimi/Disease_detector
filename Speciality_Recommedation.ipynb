{
  "metadata": {
    "kernelspec": {
      "language": "python",
      "display_name": "Python 3",
      "name": "python3"
    },
    "language_info": {
      "pygments_lexer": "ipython3",
      "nbconvert_exporter": "python",
      "version": "3.6.4",
      "file_extension": ".py",
      "codemirror_mode": {
        "name": "ipython",
        "version": 3
      },
      "name": "python",
      "mimetype": "text/x-python"
    },
    "kaggle": {
      "accelerator": "none",
      "dataSources": [
        {
          "sourceId": 5969573,
          "sourceType": "datasetVersion",
          "datasetId": 3417941
        }
      ],
      "dockerImageVersionId": 30513,
      "isInternetEnabled": false,
      "language": "python",
      "sourceType": "notebook",
      "isGpuEnabled": false
    },
    "colab": {
      "name": "Disease, Speciality Recommedation",
      "provenance": [],
      "include_colab_link": true
    }
  },
  "nbformat_minor": 0,
  "nbformat": 4,
  "cells": [
    {
      "cell_type": "markdown",
      "metadata": {
        "id": "view-in-github",
        "colab_type": "text"
      },
      "source": [
        "<a href=\"https://colab.research.google.com/github/wael-slimi/Speciality_Recommedation/blob/main/Speciality_Recommedation.ipynb\" target=\"_parent\"><img src=\"https://colab.research.google.com/assets/colab-badge.svg\" alt=\"Open In Colab\"/></a>"
      ]
    },
    {
      "source": [
        "\n",
        "# IMPORTANT: RUN THIS CELL IN ORDER TO IMPORT YOUR KAGGLE DATA SOURCES\n",
        "# TO THE CORRECT LOCATION (/kaggle/input) IN YOUR NOTEBOOK,\n",
        "# THEN FEEL FREE TO DELETE THIS CELL.\n",
        "# NOTE: THIS NOTEBOOK ENVIRONMENT DIFFERS FROM KAGGLE'S PYTHON\n",
        "# ENVIRONMENT SO THERE MAY BE MISSING LIBRARIES USED BY YOUR\n",
        "# NOTEBOOK.\n",
        "\n",
        "import os\n",
        "import sys\n",
        "from tempfile import NamedTemporaryFile\n",
        "from urllib.request import urlopen\n",
        "from urllib.parse import unquote, urlparse\n",
        "from urllib.error import HTTPError\n",
        "from zipfile import ZipFile\n",
        "import tarfile\n",
        "import shutil\n",
        "\n",
        "CHUNK_SIZE = 40960\n",
        "DATA_SOURCE_MAPPING = 'doctor-specialist-recommendation-system:https%3A%2F%2Fstorage.googleapis.com%2Fkaggle-data-sets%2F3417941%2F5969573%2Fbundle%2Farchive.zip%3FX-Goog-Algorithm%3DGOOG4-RSA-SHA256%26X-Goog-Credential%3Dgcp-kaggle-com%2540kaggle-161607.iam.gserviceaccount.com%252F20240425%252Fauto%252Fstorage%252Fgoog4_request%26X-Goog-Date%3D20240425T020157Z%26X-Goog-Expires%3D259200%26X-Goog-SignedHeaders%3Dhost%26X-Goog-Signature%3D10edc02ee98f39bb687a0e1c762b67d5ebd87ce4f6bf704f1d33de5ecfc7690e6924588b881146388e164fce78529ea2a769f61da3f56cc2fca13be64e609618065f48bec268eab39cf67149ca7c4df4da0e4167b5ffdf30fb4d0a6a4184425ebaa1ae0dfca892445cf7ddc76df4a88fea34fb6a212fff9cab643dacf9ca25ffe276a5d54d4bcd88ed3e7ce7a6edf7b595a9b436a918c7ddb5a98c8ce904e203f5e111aebdfcacea61f0185a55b76224706719ab84b04ab2fbfb8ffea4aa1d17fa5612740ca811c1aecfad98e5194bc987759798b72ed00378f1f1b544fd49396633a496043573bac6a1d135fa2931bd680cf8895ea801fe5c1a472807fde133'\n",
        "\n",
        "KAGGLE_INPUT_PATH='/kaggle/input'\n",
        "KAGGLE_WORKING_PATH='/kaggle/working'\n",
        "KAGGLE_SYMLINK='kaggle'\n",
        "\n",
        "!umount /kaggle/input/ 2> /dev/null\n",
        "shutil.rmtree('/kaggle/input', ignore_errors=True)\n",
        "os.makedirs(KAGGLE_INPUT_PATH, 0o777, exist_ok=True)\n",
        "os.makedirs(KAGGLE_WORKING_PATH, 0o777, exist_ok=True)\n",
        "\n",
        "try:\n",
        "  os.symlink(KAGGLE_INPUT_PATH, os.path.join(\"..\", 'input'), target_is_directory=True)\n",
        "except FileExistsError:\n",
        "  pass\n",
        "try:\n",
        "  os.symlink(KAGGLE_WORKING_PATH, os.path.join(\"..\", 'working'), target_is_directory=True)\n",
        "except FileExistsError:\n",
        "  pass\n",
        "\n",
        "for data_source_mapping in DATA_SOURCE_MAPPING.split(','):\n",
        "    directory, download_url_encoded = data_source_mapping.split(':')\n",
        "    download_url = unquote(download_url_encoded)\n",
        "    filename = urlparse(download_url).path\n",
        "    destination_path = os.path.join(KAGGLE_INPUT_PATH, directory)\n",
        "    try:\n",
        "        with urlopen(download_url) as fileres, NamedTemporaryFile() as tfile:\n",
        "            total_length = fileres.headers['content-length']\n",
        "            print(f'Downloading {directory}, {total_length} bytes compressed')\n",
        "            dl = 0\n",
        "            data = fileres.read(CHUNK_SIZE)\n",
        "            while len(data) > 0:\n",
        "                dl += len(data)\n",
        "                tfile.write(data)\n",
        "                done = int(50 * dl / int(total_length))\n",
        "                sys.stdout.write(f\"\\r[{'=' * done}{' ' * (50-done)}] {dl} bytes downloaded\")\n",
        "                sys.stdout.flush()\n",
        "                data = fileres.read(CHUNK_SIZE)\n",
        "            if filename.endswith('.zip'):\n",
        "              with ZipFile(tfile) as zfile:\n",
        "                zfile.extractall(destination_path)\n",
        "            else:\n",
        "              with tarfile.open(tfile.name) as tarfile:\n",
        "                tarfile.extractall(destination_path)\n",
        "            print(f'\\nDownloaded and uncompressed: {directory}')\n",
        "    except HTTPError as e:\n",
        "        print(f'Failed to load (likely expired) {download_url} to path {destination_path}')\n",
        "        continue\n",
        "    except OSError as e:\n",
        "        print(f'Failed to load {download_url} to path {destination_path}')\n",
        "        continue\n",
        "\n",
        "print('Data source import complete.')\n"
      ],
      "metadata": {
        "id": "Vx_Geb1BDVbL"
      },
      "cell_type": "code",
      "outputs": [],
      "execution_count": null
    },
    {
      "cell_type": "markdown",
      "source": [
        "### Predicting Disease based on the Symptoms and identifying specialist based on predicted disease"
      ],
      "metadata": {
        "id": "iJ7uDIP_DVbO"
      }
    },
    {
      "cell_type": "code",
      "source": [],
      "metadata": {
        "id": "JJkBQ1OdDVbP"
      },
      "execution_count": null,
      "outputs": []
    },
    {
      "cell_type": "markdown",
      "source": [
        "**The dataset contains information about symptoms, diseases, recommended doctors for each disease, and descriptions of the diseases. Using a classification model, diseases have been predicted based on the given symptoms. The predictions provide insights into the predicted disease, the likelihood or chance of that disease based on the classification model, the recommended doctor to visit for that disease, and a description of the predicted disease.**\n",
        "\n",
        "**The summary output includes:**\n",
        "\n",
        "**Predicted Disease:** *-The disease that has been predicted based on the symptoms provided.-*\n",
        "\n",
        "**Chance of the Disease:** *-The likelihood or probability of having that disease, as determined by the classification model.-*\n",
        "\n",
        "**Recommended Doctor:** *-The doctor or specialist recommended to visit for further evaluation or treatment of the predicted disease.-*\n",
        "\n",
        "**Description of the Disease:** *-A brief overview or description of the predicted disease, providing additional information about its symptoms, causes, and potential treatments.-*\n",
        "\n",
        "**This summary aims to provide a concise and informative overview of the predicted disease, its associated likelihood, the recommended doctor, and a brief description to aid in understanding and decision-making regarding the predicted disease.**"
      ],
      "metadata": {
        "id": "K1pIsrEWDVbQ"
      }
    },
    {
      "cell_type": "code",
      "source": [
        "import pandas as pd\n",
        "import numpy as np\n",
        "import matplotlib.pyplot as plt\n",
        "import seaborn as sns\n",
        "import warnings\n",
        "warnings.filterwarnings(\"ignore\")\n",
        "from sklearn.model_selection import train_test_split\n",
        "from sklearn.linear_model import LogisticRegression\n",
        "from sklearn.neighbors import KNeighborsClassifier\n",
        "from sklearn.naive_bayes import GaussianNB\n",
        "from sklearn import svm\n",
        "from sklearn import tree\n",
        "from sklearn.ensemble import RandomForestClassifier\n",
        "from sklearn.ensemble import GradientBoostingClassifier\n",
        "from sklearn.preprocessing import LabelEncoder\n",
        "from sklearn import metrics\n",
        "from sklearn.metrics import confusion_matrix\n",
        "from sklearn.model_selection import RandomizedSearchCV\n",
        "from collections import Counter"
      ],
      "metadata": {
        "id": "BpruLvP-DVbQ"
      },
      "execution_count": null,
      "outputs": []
    },
    {
      "cell_type": "code",
      "source": [
        "pd.set_option('display.max_colwidth', -1)"
      ],
      "metadata": {
        "id": "Xj9zXgmDDVbQ"
      },
      "execution_count": null,
      "outputs": []
    },
    {
      "cell_type": "code",
      "source": [
        "dis_sym_data = pd.read_csv(\"/kaggle/input/doctor-specialist-recommendation-system/Original_Dataset.csv\")"
      ],
      "metadata": {
        "id": "FtO-694aDVbQ"
      },
      "execution_count": null,
      "outputs": []
    },
    {
      "cell_type": "code",
      "source": [
        "dis_sym_data.head()"
      ],
      "metadata": {
        "scrolled": true,
        "id": "ab19QxLkDVbQ"
      },
      "execution_count": null,
      "outputs": []
    },
    {
      "cell_type": "code",
      "source": [
        "dis_sym_data.shape"
      ],
      "metadata": {
        "id": "bk0raiE7DVbQ"
      },
      "execution_count": null,
      "outputs": []
    },
    {
      "cell_type": "markdown",
      "source": [
        "**Finding unique values across all the symptoms column**"
      ],
      "metadata": {
        "id": "4Sch6X9ZDVbR"
      }
    },
    {
      "cell_type": "code",
      "source": [
        "columns_to_check = []\n",
        "for col in dis_sym_data.columns:\n",
        "    if col != 'Disease':\n",
        "        columns_to_check.append(col)"
      ],
      "metadata": {
        "id": "jnnh_BKFDVbR"
      },
      "execution_count": null,
      "outputs": []
    },
    {
      "cell_type": "code",
      "source": [
        "symptoms = dis_sym_data.iloc[:, 1:].values.flatten()\n",
        "symptoms = list(set(symptoms))"
      ],
      "metadata": {
        "id": "eS6g0eP7DVbR"
      },
      "execution_count": null,
      "outputs": []
    },
    {
      "cell_type": "markdown",
      "source": [
        "**Convert Symptoms to Binary Columns**"
      ],
      "metadata": {
        "id": "R8_z2YDvDVbR"
      }
    },
    {
      "cell_type": "code",
      "source": [
        "for symptom in symptoms:\n",
        "    dis_sym_data[symptom] = dis_sym_data.iloc[:, 1:].apply(lambda row: int(symptom in row.values), axis=1)\n",
        "\n",
        "dis_sym_data_v1 = dis_sym_data.drop(columns=columns_to_check)"
      ],
      "metadata": {
        "id": "nqdDOZ35DVbR"
      },
      "execution_count": null,
      "outputs": []
    },
    {
      "cell_type": "code",
      "source": [
        "dis_sym_data_v1 = dis_sym_data_v1.loc[:, dis_sym_data_v1.columns.notna()]"
      ],
      "metadata": {
        "id": "tdKlQ3XdDVbR"
      },
      "execution_count": null,
      "outputs": []
    },
    {
      "cell_type": "code",
      "source": [
        "dis_sym_data_v1.shape"
      ],
      "metadata": {
        "id": "rjr7S3HbDVbR"
      },
      "execution_count": null,
      "outputs": []
    },
    {
      "cell_type": "code",
      "source": [
        "dis_sym_data_v1.columns = dis_sym_data_v1.columns.str.strip()"
      ],
      "metadata": {
        "id": "AFT1X-FqDVbS"
      },
      "execution_count": null,
      "outputs": []
    },
    {
      "cell_type": "code",
      "source": [
        "dis_sym_data_v1.columns"
      ],
      "metadata": {
        "id": "FfJCjm65DVbS"
      },
      "execution_count": null,
      "outputs": []
    },
    {
      "cell_type": "markdown",
      "source": [
        "**Encoding Disease**"
      ],
      "metadata": {
        "id": "ISvxRdjIDVbS"
      }
    },
    {
      "cell_type": "code",
      "source": [
        "var_mod = ['Disease']\n",
        "le = LabelEncoder()\n",
        "for i in var_mod:\n",
        "    dis_sym_data_v1[i] = le.fit_transform(dis_sym_data_v1[i])"
      ],
      "metadata": {
        "id": "tSvrKV_vDVbS"
      },
      "execution_count": null,
      "outputs": []
    },
    {
      "cell_type": "code",
      "source": [
        "X = dis_sym_data_v1.drop(columns=\"Disease\")\n",
        "y = dis_sym_data_v1['Disease']"
      ],
      "metadata": {
        "id": "OcEX-sOwDVbS"
      },
      "execution_count": null,
      "outputs": []
    },
    {
      "cell_type": "markdown",
      "source": [
        "**Model Generation**"
      ],
      "metadata": {
        "id": "i--P4Hk2DVbS"
      }
    },
    {
      "cell_type": "code",
      "source": [
        "def class_algo(model,independent,dependent):\n",
        "    model.fit(independent,dependent)\n",
        "    pred = model.predict(independent)\n",
        "    accuracy = metrics.accuracy_score(pred,dependent)\n",
        "    print(model_name,'Accuracy : %s' % '{0:.3%}'.format(accuracy))"
      ],
      "metadata": {
        "id": "ag7x94agDVbS"
      },
      "execution_count": null,
      "outputs": []
    },
    {
      "cell_type": "code",
      "source": [
        "algorithms = {'Logistic Regression':\n",
        "              {\"model\": LogisticRegression()},\n",
        "\n",
        "              'Decision Tree':\n",
        "              {\"model\": tree.DecisionTreeClassifier()},\n",
        "\n",
        "              'Random Forest':\n",
        "              {\"model\": RandomForestClassifier()},\n",
        "\n",
        "              'SVM':\n",
        "              {\"model\": svm.SVC(probability=True)},\n",
        "\n",
        "              'NaiveBayes' :\n",
        "              {\"model\": GaussianNB()},\n",
        "\n",
        "              'K-Nearest Neighbors' :\n",
        "              {\"model\": KNeighborsClassifier()},\n",
        "             }"
      ],
      "metadata": {
        "id": "ksfNaPzTDVbS"
      },
      "execution_count": null,
      "outputs": []
    },
    {
      "cell_type": "code",
      "source": [
        "for model_name, values in algorithms.items():\n",
        "    class_algo(values[\"model\"],X,y)"
      ],
      "metadata": {
        "id": "EOhN0wVCDVbS"
      },
      "execution_count": null,
      "outputs": []
    },
    {
      "cell_type": "markdown",
      "source": [
        "**Map Description and Specialist for the Disease Predicted**"
      ],
      "metadata": {
        "id": "1UjWPgnDDVbS"
      }
    },
    {
      "cell_type": "code",
      "source": [
        "doc_data = pd.read_csv(\"/kaggle/input/doctor-specialist-recommendation-system/Doctor_Versus_Disease.csv\",encoding='latin1', names=['Disease','Specialist'])"
      ],
      "metadata": {
        "id": "eruo7KcdDVbS"
      },
      "execution_count": null,
      "outputs": []
    },
    {
      "cell_type": "code",
      "source": [
        "doc_data.tail(5)"
      ],
      "metadata": {
        "id": "_IKzEVrtDVbT"
      },
      "execution_count": null,
      "outputs": []
    },
    {
      "cell_type": "markdown",
      "source": [
        " -*Doctor name is wrong for Disease - Tuberculosis. Replace to Pulmonologist*-"
      ],
      "metadata": {
        "id": "hMccuOikDVbT"
      }
    },
    {
      "cell_type": "code",
      "source": [
        "doc_data['Specialist'] = np.where((doc_data['Disease'] == 'Tuberculosis'),'Pulmonologist', doc_data['Specialist'])"
      ],
      "metadata": {
        "id": "zXdCr6csDVbT"
      },
      "execution_count": null,
      "outputs": []
    },
    {
      "cell_type": "code",
      "source": [
        "doc_data.tail(5)"
      ],
      "metadata": {
        "id": "F67QnHCQDVbT"
      },
      "execution_count": null,
      "outputs": []
    },
    {
      "cell_type": "code",
      "source": [
        "des_data = pd.read_csv(\"/kaggle/input/doctor-specialist-recommendation-system/Disease_Description.csv\")"
      ],
      "metadata": {
        "id": "rGjZPPTSDVbT"
      },
      "execution_count": null,
      "outputs": []
    },
    {
      "cell_type": "code",
      "source": [
        "des_data.head()"
      ],
      "metadata": {
        "id": "psa3PzutDVbT"
      },
      "execution_count": null,
      "outputs": []
    },
    {
      "cell_type": "markdown",
      "source": [
        "**Test with Unknown Data**"
      ],
      "metadata": {
        "id": "yK41h_HGDVbT"
      }
    },
    {
      "cell_type": "code",
      "source": [
        "test_col = []\n",
        "for col in dis_sym_data_v1.columns:\n",
        "    if col != 'Disease':\n",
        "        test_col.append(col)\n",
        "\n",
        "\n",
        "test_data = {}\n",
        "symptoms = []\n",
        "predicted = []\n",
        "def test_input():\n",
        "    symptoms.clear()\n",
        "    predicted.clear()\n",
        "    num_inputs = int(input(\"Enter the number of symptoms you have: \"))\n",
        "    for i in range(num_inputs):\n",
        "        user_input = input(\"Enter Symptoms #{}: \".format(i+1))\n",
        "        symptoms.append(user_input)\n",
        "    print(\"Symptoms you have:\", symptoms)\n",
        "    for column in test_col:\n",
        "        test_data[column] = 1 if column in symptoms else 0\n",
        "        test_df = pd.DataFrame(test_data, index=[0])\n",
        "    print(\"Predicting Disease based on 6 ML algorithms...\")\n",
        "    for model_name, values in algorithms.items():\n",
        "        predict_disease = values[\"model\"].predict(test_df)\n",
        "        predict_disease = le.inverse_transform(predict_disease)\n",
        "        predicted.extend(predict_disease)\n",
        "    disease_counts = Counter(predicted)\n",
        "    percentage_per_disease = {disease: (count / 6) * 100 for disease, count in disease_counts.items()}\n",
        "    result_df = pd.DataFrame({\"Disease\": list(percentage_per_disease.keys()),\n",
        "                               \"Chances\": list(percentage_per_disease.values())})\n",
        "    result_df = result_df.merge(doc_data, on='Disease', how='left')\n",
        "    result_df = result_df.merge(des_data, on='Disease', how='left')\n",
        "    return result_df"
      ],
      "metadata": {
        "id": "ZU5DyGgQDVbT"
      },
      "execution_count": null,
      "outputs": []
    },
    {
      "cell_type": "code",
      "source": [
        "test_input()"
      ],
      "metadata": {
        "scrolled": true,
        "id": "xY90MwUCDVbT"
      },
      "execution_count": null,
      "outputs": []
    },
    {
      "cell_type": "code",
      "source": [],
      "metadata": {
        "id": "EbZqw4cmDVbU"
      },
      "execution_count": null,
      "outputs": []
    }
  ]
}